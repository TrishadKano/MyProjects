{
 "cells": [
  {
   "cell_type": "code",
   "execution_count": null,
   "metadata": {
    "_cell_guid": "b1076dfc-b9ad-4769-8c92-a6c4dae69d19",
    "_uuid": "8f2839f25d086af736a60e9eeb907d3b93b6e0e5",
    "execution": {
     "iopub.execute_input": "2024-05-24T07:11:56.808309Z",
     "iopub.status.busy": "2024-05-24T07:11:56.807865Z",
     "iopub.status.idle": "2024-05-24T07:11:57.9826Z",
     "shell.execute_reply": "2024-05-24T07:11:57.981074Z",
     "shell.execute_reply.started": "2024-05-24T07:11:56.808274Z"
    },
    "trusted": true
   },
   "outputs": [],
   "source": [
    "\n",
    "\n",
    "import numpy as np # linear algebra\n",
    "import pandas as pd # data processing, CSV file I/O (e.g. pd.read_csv)\n",
    "import matplotlib.pyplot as plt \n",
    "import seaborn as sns\n",
    "# Input data files are available in the read-only \"../input/\" directory\n",
    "# For example, running this (by clicking run or pressing Shift+Enter) will list all files under the input directory\n",
    "\n",
    "import os\n",
    "for dirname, _, filenames in os.walk('/kaggle/input'):\n",
    "    for filename in filenames:\n",
    "        print(os.path.join(dirname, filename))\n",
    "\n",
    "\n",
    "# to avoid warnings\n",
    "import warnings\n",
    "warnings.filterwarnings('ignore')"
   ]
  },
  {
   "cell_type": "markdown",
   "metadata": {},
   "source": [
    "\n",
    "# **Step 2 : Read the Data**\n",
    "---------------------------"
   ]
  },
  {
   "cell_type": "code",
   "execution_count": null,
   "metadata": {
    "execution": {
     "iopub.execute_input": "2024-05-24T07:11:57.98547Z",
     "iopub.status.busy": "2024-05-24T07:11:57.984906Z",
     "iopub.status.idle": "2024-05-24T07:11:58.023081Z",
     "shell.execute_reply": "2024-05-24T07:11:58.021654Z",
     "shell.execute_reply.started": "2024-05-24T07:11:57.985435Z"
    },
    "trusted": true
   },
   "outputs": [],
   "source": [
    "# Read the data\n",
    "house = pd.read_csv(\"/kaggle/input/the-boston-housing-dataset/Boston (1).csv\")\n",
    "house.head()"
   ]
  },
  {
   "cell_type": "markdown",
   "metadata": {},
   "source": [
    "\n",
    "# **Step 3 : Data Exploration**\n",
    "---------------------------------"
   ]
  },
  {
   "cell_type": "code",
   "execution_count": null,
   "metadata": {
    "execution": {
     "iopub.execute_input": "2024-05-24T07:11:58.027283Z",
     "iopub.status.busy": "2024-05-24T07:11:58.026881Z",
     "iopub.status.idle": "2024-05-24T07:11:58.035295Z",
     "shell.execute_reply": "2024-05-24T07:11:58.034023Z",
     "shell.execute_reply.started": "2024-05-24T07:11:58.02725Z"
    },
    "trusted": true
   },
   "outputs": [],
   "source": [
    "# Shape of Data\n",
    "house.shape"
   ]
  },
  {
   "cell_type": "code",
   "execution_count": null,
   "metadata": {
    "execution": {
     "iopub.execute_input": "2024-05-24T07:11:58.039946Z",
     "iopub.status.busy": "2024-05-24T07:11:58.03929Z",
     "iopub.status.idle": "2024-05-24T07:11:58.055747Z",
     "shell.execute_reply": "2024-05-24T07:11:58.054246Z",
     "shell.execute_reply.started": "2024-05-24T07:11:58.039901Z"
    },
    "trusted": true
   },
   "outputs": [],
   "source": [
    "# Data information\n",
    "house.info()"
   ]
  },
  {
   "cell_type": "code",
   "execution_count": null,
   "metadata": {
    "execution": {
     "iopub.execute_input": "2024-05-24T07:11:58.058279Z",
     "iopub.status.busy": "2024-05-24T07:11:58.057822Z",
     "iopub.status.idle": "2024-05-24T07:11:58.073Z",
     "shell.execute_reply": "2024-05-24T07:11:58.071308Z",
     "shell.execute_reply.started": "2024-05-24T07:11:58.058233Z"
    },
    "trusted": true
   },
   "outputs": [],
   "source": [
    "# Checking Null Values\n",
    "house.isna().sum()"
   ]
  },
  {
   "cell_type": "code",
   "execution_count": null,
   "metadata": {
    "execution": {
     "iopub.execute_input": "2024-05-24T07:11:58.075971Z",
     "iopub.status.busy": "2024-05-24T07:11:58.074645Z",
     "iopub.status.idle": "2024-05-24T07:11:58.088836Z",
     "shell.execute_reply": "2024-05-24T07:11:58.087194Z",
     "shell.execute_reply.started": "2024-05-24T07:11:58.075924Z"
    },
    "trusted": true
   },
   "outputs": [],
   "source": [
    "# Checking Duplicate Values\n",
    "house.duplicated().sum()"
   ]
  },
  {
   "cell_type": "code",
   "execution_count": null,
   "metadata": {
    "execution": {
     "iopub.execute_input": "2024-05-24T07:11:58.091652Z",
     "iopub.status.busy": "2024-05-24T07:11:58.091222Z",
     "iopub.status.idle": "2024-05-24T07:11:58.155257Z",
     "shell.execute_reply": "2024-05-24T07:11:58.153714Z",
     "shell.execute_reply.started": "2024-05-24T07:11:58.091596Z"
    },
    "trusted": true
   },
   "outputs": [],
   "source": [
    "# Summary of data\n",
    "house.describe()"
   ]
  },
  {
   "cell_type": "code",
   "execution_count": null,
   "metadata": {
    "execution": {
     "iopub.execute_input": "2024-05-24T07:11:58.157512Z",
     "iopub.status.busy": "2024-05-24T07:11:58.157042Z",
     "iopub.status.idle": "2024-05-24T07:11:58.167422Z",
     "shell.execute_reply": "2024-05-24T07:11:58.165969Z",
     "shell.execute_reply.started": "2024-05-24T07:11:58.157459Z"
    },
    "trusted": true
   },
   "outputs": [],
   "source": [
    "house.columns"
   ]
  },
  {
   "cell_type": "markdown",
   "metadata": {},
   "source": [
    "\n",
    "# **Step 4 : Data Visulization**\n",
    "---------------\n"
   ]
  },
  {
   "cell_type": "code",
   "execution_count": null,
   "metadata": {
    "execution": {
     "iopub.execute_input": "2024-05-24T07:11:58.170247Z",
     "iopub.status.busy": "2024-05-24T07:11:58.169786Z",
     "iopub.status.idle": "2024-05-24T07:11:58.666709Z",
     "shell.execute_reply": "2024-05-24T07:11:58.665541Z",
     "shell.execute_reply.started": "2024-05-24T07:11:58.17021Z"
    },
    "trusted": true
   },
   "outputs": [],
   "source": [
    "import matplotlib.pyplot as plt\n",
    "import seaborn as sns\n",
    "\n",
    "# Histogram of Housing Prices (MEDV)\n",
    "\n",
    "sns.distplot(house['MEDV'], bins=20, kde=True)\n",
    "plt.title('Distribution of Housing Prices (MEDV)')\n",
    "plt.xlabel('Median Housing Price ($1000s)')\n",
    "plt.ylabel('Frequency')\n",
    "plt.show()"
   ]
  },
  {
   "cell_type": "code",
   "execution_count": null,
   "metadata": {
    "execution": {
     "iopub.execute_input": "2024-05-24T07:11:58.672933Z",
     "iopub.status.busy": "2024-05-24T07:11:58.672069Z",
     "iopub.status.idle": "2024-05-24T07:12:06.16231Z",
     "shell.execute_reply": "2024-05-24T07:12:06.160867Z",
     "shell.execute_reply.started": "2024-05-24T07:11:58.672886Z"
    },
    "trusted": true
   },
   "outputs": [],
   "source": [
    "# List of features\n",
    "features = ['CRIM', 'ZN', 'INDUS', 'CHAS', 'NX', 'RM', 'AGE', 'DIS', 'RAD', 'TAX',\n",
    "       'PTRATIO', 'B', 'LSTAT'] \n",
    "\n",
    "# Create a scatter plot and boxplot for each feature side by side\n",
    "for feature in features:\n",
    "    fig, axes = plt.subplots(nrows=1, ncols=2, figsize=(10, 5))  \n",
    "\n",
    "    # Scatter plot of feature with target variable\n",
    "    axes[0].scatter(house[feature], house['MEDV'])\n",
    "    axes[0].set_title(f'Scatter plot of {feature} with House Price')\n",
    "    axes[0].set_xlabel(feature)\n",
    "    axes[0].set_ylabel('House Price')\n",
    "\n",
    "    # Boxplot of the feature\n",
    "    axes[1].boxplot(house[feature])\n",
    "    axes[1].set_title(f'Boxplot for {feature}')\n",
    "    axes[1].set_xlabel('Feature')\n",
    "    axes[1].set_ylabel('Values')\n",
    "\n",
    "    plt.tight_layout()  \n",
    "    plt.show();"
   ]
  },
  {
   "cell_type": "code",
   "execution_count": null,
   "metadata": {
    "execution": {
     "iopub.execute_input": "2024-05-24T07:12:06.164248Z",
     "iopub.status.busy": "2024-05-24T07:12:06.163897Z",
     "iopub.status.idle": "2024-05-24T07:12:06.180837Z",
     "shell.execute_reply": "2024-05-24T07:12:06.17907Z",
     "shell.execute_reply.started": "2024-05-24T07:12:06.164218Z"
    },
    "trusted": true
   },
   "outputs": [],
   "source": [
    "rad_medv_mean = house.groupby('RAD')['MEDV'].mean().reset_index()\n",
    "rad_medv_mean"
   ]
  },
  {
   "cell_type": "code",
   "execution_count": null,
   "metadata": {
    "execution": {
     "iopub.execute_input": "2024-05-24T07:12:06.183561Z",
     "iopub.status.busy": "2024-05-24T07:12:06.182859Z",
     "iopub.status.idle": "2024-05-24T07:12:06.536935Z",
     "shell.execute_reply": "2024-05-24T07:12:06.535712Z",
     "shell.execute_reply.started": "2024-05-24T07:12:06.183521Z"
    },
    "trusted": true
   },
   "outputs": [],
   "source": [
    "# Bar Plot Average House Price By Accessibility of Road Highways\n",
    "\n",
    "sns.barplot(x='RAD', y='MEDV', data=rad_medv_mean, color='orange',edgecolor='black')\n",
    "plt.title('Average House Price By Accessibility of Road Highways')\n",
    "plt.xlabel('Accessibility of Road Highways')\n",
    "plt.ylabel('Mean Housing Price ($1000s)')\n",
    "plt.show();"
   ]
  },
  {
   "cell_type": "code",
   "execution_count": null,
   "metadata": {
    "execution": {
     "iopub.execute_input": "2024-05-24T07:12:06.539799Z",
     "iopub.status.busy": "2024-05-24T07:12:06.53899Z",
     "iopub.status.idle": "2024-05-24T07:12:07.46406Z",
     "shell.execute_reply": "2024-05-24T07:12:07.46294Z",
     "shell.execute_reply.started": "2024-05-24T07:12:06.539748Z"
    },
    "trusted": true
   },
   "outputs": [],
   "source": [
    "# Correlation Heatmap\n",
    "plt.figure(figsize=(10, 8))\n",
    "sns.heatmap(house.corr(), annot=True, cmap='coolwarm', linewidths=0.5)\n",
    "plt.title('Correlation Heatmap of Boston Housing Features')\n",
    "plt.show()"
   ]
  },
  {
   "cell_type": "markdown",
   "metadata": {},
   "source": [
    "# **Step 5 : Split the Data**\n",
    "--------------"
   ]
  },
  {
   "cell_type": "code",
   "execution_count": null,
   "metadata": {
    "execution": {
     "iopub.execute_input": "2024-05-24T07:12:07.501481Z",
     "iopub.status.busy": "2024-05-24T07:12:07.501075Z",
     "iopub.status.idle": "2024-05-24T07:12:07.509046Z",
     "shell.execute_reply": "2024-05-24T07:12:07.508077Z",
     "shell.execute_reply.started": "2024-05-24T07:12:07.501447Z"
    },
    "trusted": true
   },
   "outputs": [],
   "source": [
    "# Split the Data \n",
    "X = house.drop(columns=['MEDV']) \n",
    "y = house['MEDV'] "
   ]
  },
  {
   "cell_type": "code",
   "execution_count": null,
   "metadata": {
    "execution": {
     "iopub.execute_input": "2024-05-24T07:12:07.511343Z",
     "iopub.status.busy": "2024-05-24T07:12:07.510483Z",
     "iopub.status.idle": "2024-05-24T07:12:07.610313Z",
     "shell.execute_reply": "2024-05-24T07:12:07.608695Z",
     "shell.execute_reply.started": "2024-05-24T07:12:07.511308Z"
    },
    "trusted": true
   },
   "outputs": [],
   "source": [
    "# Splitting Data for Train and Test\n",
    "from sklearn.model_selection import train_test_split\n",
    "X_train,X_test,y_train,y_test = train_test_split(X,y,train_size=0.8,random_state=2)"
   ]
  },
  {
   "cell_type": "code",
   "execution_count": null,
   "metadata": {
    "execution": {
     "iopub.execute_input": "2024-05-24T07:12:07.614776Z",
     "iopub.status.busy": "2024-05-24T07:12:07.614246Z",
     "iopub.status.idle": "2024-05-24T07:12:07.622134Z",
     "shell.execute_reply": "2024-05-24T07:12:07.620699Z",
     "shell.execute_reply.started": "2024-05-24T07:12:07.614736Z"
    },
    "trusted": true
   },
   "outputs": [],
   "source": [
    "# shape of spiltted data\n",
    "print(\"The shape of X_train :\",X_train.shape)\n",
    "print(\"The shape ofX_test :\",X_test.shape)\n",
    "print(\"The shape of y_train :\",y_train.shape)\n",
    "print(\"The shape of y_test :\",y_test.shape)"
   ]
  },
  {
   "cell_type": "markdown",
   "metadata": {},
   "source": [
    "# **Step 6 : Train the Model**\n",
    "\n",
    "-------------------------\n"
   ]
  },
  {
   "cell_type": "code",
   "execution_count": null,
   "metadata": {
    "execution": {
     "iopub.execute_input": "2024-05-24T07:12:07.716786Z",
     "iopub.status.busy": "2024-05-24T07:12:07.716335Z",
     "iopub.status.idle": "2024-05-24T07:12:07.747005Z",
     "shell.execute_reply": "2024-05-24T07:12:07.745412Z",
     "shell.execute_reply.started": "2024-05-24T07:12:07.716749Z"
    },
    "trusted": true
   },
   "outputs": [],
   "source": [
    "# Decision Tree Regressor\n",
    "from sklearn.tree import DecisionTreeRegressor \n",
    "dtr = DecisionTreeRegressor(max_depth=5)"
   ]
  },
  {
   "cell_type": "code",
   "execution_count": null,
   "metadata": {
    "execution": {
     "iopub.execute_input": "2024-05-24T07:12:07.74919Z",
     "iopub.status.busy": "2024-05-24T07:12:07.748818Z",
     "iopub.status.idle": "2024-05-24T07:12:07.764246Z",
     "shell.execute_reply": "2024-05-24T07:12:07.762907Z",
     "shell.execute_reply.started": "2024-05-24T07:12:07.74916Z"
    },
    "trusted": true
   },
   "outputs": [],
   "source": [
    "# Fit the model on Training dataset\n",
    "dtr.fit(X_train,y_train)"
   ]
  },
  {
   "cell_type": "code",
   "execution_count": null,
   "metadata": {
    "execution": {
     "iopub.execute_input": "2024-05-24T07:12:07.766402Z",
     "iopub.status.busy": "2024-05-24T07:12:07.765962Z",
     "iopub.status.idle": "2024-05-24T07:12:07.776673Z",
     "shell.execute_reply": "2024-05-24T07:12:07.775174Z",
     "shell.execute_reply.started": "2024-05-24T07:12:07.766363Z"
    },
    "trusted": true
   },
   "outputs": [],
   "source": [
    "# Predictions of  decision Tree Regressor on Testing Data\n",
    "y_pred_dtr=dtr.predict(X_test)"
   ]
  },
  {
   "cell_type": "code",
   "execution_count": null,
   "metadata": {
    "execution": {
     "iopub.execute_input": "2024-05-24T07:12:07.778743Z",
     "iopub.status.busy": "2024-05-24T07:12:07.778293Z",
     "iopub.status.idle": "2024-05-24T07:12:07.788593Z",
     "shell.execute_reply": "2024-05-24T07:12:07.787218Z",
     "shell.execute_reply.started": "2024-05-24T07:12:07.778708Z"
    },
    "trusted": true
   },
   "outputs": [],
   "source": [
    "# Accuracy Score of Model\n",
    "from sklearn.metrics import mean_absolute_percentage_error\n",
    "error = mean_absolute_percentage_error(y_pred_dtr,y_test)\n",
    "print(\"Accuracy of Decision Tree Regressor is :%.2f \"%((1 - error)*100),'%')"
   ]
  },
  {
   "cell_type": "code",
   "execution_count": null,
   "metadata": {
    "execution": {
     "iopub.execute_input": "2024-05-24T07:12:07.79055Z",
     "iopub.status.busy": "2024-05-24T07:12:07.790158Z",
     "iopub.status.idle": "2024-05-24T07:12:07.816971Z",
     "shell.execute_reply": "2024-05-24T07:12:07.815607Z",
     "shell.execute_reply.started": "2024-05-24T07:12:07.790473Z"
    },
    "trusted": true
   },
   "outputs": [],
   "source": [
    "# Random Forest Regressor \n",
    "from sklearn.ensemble import RandomForestRegressor\n",
    "rfr = RandomForestRegressor(max_depth = 10, min_samples_leaf = 1, min_samples_split = 2, n_estimators = 200)"
   ]
  },
  {
   "cell_type": "code",
   "execution_count": null,
   "metadata": {
    "execution": {
     "iopub.execute_input": "2024-05-24T07:12:07.818823Z",
     "iopub.status.busy": "2024-05-24T07:12:07.818458Z",
     "iopub.status.idle": "2024-05-24T07:12:08.663582Z",
     "shell.execute_reply": "2024-05-24T07:12:08.66223Z",
     "shell.execute_reply.started": "2024-05-24T07:12:07.818792Z"
    },
    "trusted": true
   },
   "outputs": [],
   "source": [
    "# Fit the model on Training datset\n",
    "rfr.fit(X_train,y_train)"
   ]
  },
  {
   "cell_type": "code",
   "execution_count": null,
   "metadata": {
    "execution": {
     "iopub.execute_input": "2024-05-24T07:12:08.671182Z",
     "iopub.status.busy": "2024-05-24T07:12:08.670707Z",
     "iopub.status.idle": "2024-05-24T07:12:08.695667Z",
     "shell.execute_reply": "2024-05-24T07:12:08.694072Z",
     "shell.execute_reply.started": "2024-05-24T07:12:08.671145Z"
    },
    "trusted": true
   },
   "outputs": [],
   "source": [
    "# Predictions of  Ranforest Forest Regressor on Testing Data\n",
    "y_pred_rfr = rfr.predict(X_test)"
   ]
  },
  {
   "cell_type": "code",
   "execution_count": null,
   "metadata": {
    "execution": {
     "iopub.execute_input": "2024-05-24T07:12:08.69871Z",
     "iopub.status.busy": "2024-05-24T07:12:08.698096Z",
     "iopub.status.idle": "2024-05-24T07:12:08.709291Z",
     "shell.execute_reply": "2024-05-24T07:12:08.707178Z",
     "shell.execute_reply.started": "2024-05-24T07:12:08.698662Z"
    },
    "trusted": true
   },
   "outputs": [],
   "source": [
    "# Accuracy Score of Model\n",
    "\n",
    "error = mean_absolute_percentage_error(y_pred_rfr,y_test)\n",
    "print(\"Accuracy of Random Forest Regressor is :%.2f \"%((1 - error)*100),'%')"
   ]
  },
  {
   "cell_type": "markdown",
   "metadata": {},
   "source": [
    "# Best Model\n",
    "Random Forest Regressor:\n",
    "--\n",
    "* **Accuracy**: 90.34%\n",
    "* **Pros**: Ensemble of decision trees reduces overfitting, robust to noise and outliers, handles high-dimensional data well.\n",
    "\n"
   ]
  }
 ],
 "metadata": {
  "kaggle": {
   "accelerator": "none",
   "dataSources": [
    {
     "datasetId": 4657107,
     "sourceId": 8421847,
     "sourceType": "datasetVersion"
    }
   ],
   "dockerImageVersionId": 30673,
   "isGpuEnabled": false,
   "isInternetEnabled": false,
   "language": "python",
   "sourceType": "notebook"
  },
  "kernelspec": {
   "display_name": "Python 3",
   "language": "python",
   "name": "python3"
  },
  "language_info": {
   "codemirror_mode": {
    "name": "ipython",
    "version": 3
   },
   "file_extension": ".py",
   "mimetype": "text/x-python",
   "name": "python",
   "nbconvert_exporter": "python",
   "pygments_lexer": "ipython3",
   "version": "3.10.13"
  }
 },
 "nbformat": 4,
 "nbformat_minor": 4
}
